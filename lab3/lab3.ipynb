{
 "cells": [
  {
   "cell_type": "markdown",
   "metadata": {},
   "source": [
    "# Лабораторная работа №3"
   ]
  },
  {
   "cell_type": "markdown",
   "metadata": {},
   "source": [
    "Цель работы – практическое применение библиотеки SymPy для решения задач дискретной математики и математической логики.\n",
    "<br>\n",
    "Вариант 22"
   ]
  },
  {
   "cell_type": "markdown",
   "metadata": {},
   "source": [
    "### 1 - Диофантовое уравнение"
   ]
  },
  {
   "cell_type": "markdown",
   "metadata": {},
   "source": [
    "$$ 2875x + 4301y = −46 $$"
   ]
  },
  {
   "cell_type": "code",
   "execution_count": 1,
   "metadata": {},
   "outputs": [],
   "source": [
    "from sympy.solvers.diophantine import diophantine\n",
    "from sympy import var\n",
    "x,y=var('x y')\n",
    "equvAns = diophantine(2875*x+4301*y + 46)\n",
    "equvAns = tuple(equvAns)[0]\n",
    "x, y = equvAns"
   ]
  },
  {
   "cell_type": "code",
   "execution_count": 2,
   "metadata": {},
   "outputs": [
    {
     "name": "stdout",
     "output_type": "stream",
     "text": [
      "x = 187*t_0 - 6\n",
      "y = 4 - 125*t_0\n"
     ]
    }
   ],
   "source": [
    "print(f'x = {x}')\n",
    "print(f'y = {y}')"
   ]
  },
  {
   "cell_type": "markdown",
   "metadata": {},
   "source": [
    "### 2 - Имея открытую часть ключа RSA найти соответствующую закрытую часть и расшифровать кодированное слово."
   ]
  },
  {
   "cell_type": "markdown",
   "metadata": {},
   "source": [
    "Русское слово из четырех букв закодировано при помощи алгоритма RSA открытым ключом (e = 7, m = 39).\n",
    "Шифрованное сообщение имеет вид (3; 19; 7; 32). Подберите закрытую часть ключа и прочитайте исходное слово.\n",
    "Буквам русского алфавита соответсвуют числа в диапазоне от 2 до 32 (исключены буквы “e” и “ъ”)."
   ]
  },
  {
   "cell_type": "code",
   "execution_count": 10,
   "metadata": {},
   "outputs": [],
   "source": [
    "from sympy.crypto.crypto import rsa_private_key\n",
    "from sympy.crypto.crypto import decipher_rsa, encipher_rsa\n",
    "\n",
    "privKey = rsa_private_key(39, 7)\n",
    "inpWords = [3, 19, 7, 32]"
   ]
  },
  {
   "cell_type": "code",
   "execution_count": 11,
   "metadata": {},
   "outputs": [
    {
     "name": "stdout",
     "output_type": "stream",
     "text": [
      "Result = бест\n"
     ]
    }
   ],
   "source": [
    "alph = \"абвгдежзийклмнопрстуфхцчшщыьэюя\"\n",
    "res = []\n",
    "for word in inpWords:\n",
    "    dec = decipher_rsa(word, privKey)\n",
    "    symb = alph[dec-2]\n",
    "    res.append(symb)\n",
    "print(f\"Result = {''.join(res)}\")"
   ]
  },
  {
   "cell_type": "markdown",
   "metadata": {},
   "source": [
    "### Преобразование булевой функции\n",
    "\n",
    "Записать в формате ДНФ и КНФ булеву функцию, заданную своим аналитическим\n",
    "выражением.<br>\n",
    "Вариант 32<br>\n",
    " \n",
    "  $$f(x, y, z) = ((yx) \\vee x) \\vee ((y \\newcommand*\\xor{\\oplus} z)(z \\newcommand*\\xor{\\oplus} y)) $$\n"
   ]
  },
  {
   "cell_type": "code",
   "execution_count": 17,
   "metadata": {},
   "outputs": [],
   "source": [
    "from sympy.logic.boolalg import *"
   ]
  },
  {
   "cell_type": "code",
   "execution_count": 18,
   "metadata": {},
   "outputs": [
    {
     "name": "stdout",
     "output_type": "stream",
     "text": [
      "КНФ = (x | z) & (x | ~y)\n"
     ]
    }
   ],
   "source": [
    "x,y,z=var('x y z')\n",
    "print(f\"КНФ = {to_cnf(((y & x)|x)|((y^z)&(z^x)), True)}\")"
   ]
  },
  {
   "cell_type": "code",
   "execution_count": 19,
   "metadata": {},
   "outputs": [
    {
     "name": "stdout",
     "output_type": "stream",
     "text": [
      "ДНФ = x | (z & ~y)\n"
     ]
    }
   ],
   "source": [
    "print(f\"ДНФ = {to_dnf(((y & x)|x)|((y^z)&(z^x)), True)}\")"
   ]
  },
  {
   "cell_type": "code",
   "execution_count": null,
   "metadata": {},
   "outputs": [],
   "source": []
  }
 ],
 "metadata": {
  "kernelspec": {
   "display_name": "Python 3",
   "language": "python",
   "name": "python3"
  },
  "language_info": {
   "codemirror_mode": {
    "name": "ipython",
    "version": 3
   },
   "file_extension": ".py",
   "mimetype": "text/x-python",
   "name": "python",
   "nbconvert_exporter": "python",
   "pygments_lexer": "ipython3",
   "version": "3.6.13"
  }
 },
 "nbformat": 4,
 "nbformat_minor": 4
}
